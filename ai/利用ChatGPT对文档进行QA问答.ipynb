{
 "cells": [
  {
   "cell_type": "code",
   "execution_count": 14,
   "id": "ad66c9aa",
   "metadata": {},
   "outputs": [],
   "source": [
    "from langchain.embeddings.openai import OpenAIEmbeddings\n",
    "from langchain.vectorstores import FAISS\n",
    "from langchain.text_splitter import RecursiveCharacterTextSplitter\n",
    "from langchain import OpenAI\n",
    "from langchain.chains import RetrievalQA\n",
    "from langchain.document_loaders import DirectoryLoader\n",
    "import magic\n",
    "import os\n",
    "import nltk\n",
    "\n",
    "openai_api_key = os.getenv(\"OPENAI_API_KEY\", \"YourAPIKey\")\n",
    "\n",
    "# nltk.download('averaged_perceptron_tagger')\n",
    "\n",
    "# pip install unstructured\n",
    "# Other dependencies to install https://python.langchain.com/en/latest/modules/indexes/document_loaders/examples/unstructured_file.html\n",
    "# pip install python-magic-bin\n",
    "# pip install chromadb"
   ]
  },
  {
   "cell_type": "code",
   "execution_count": 2,
   "id": "e8a28a08",
   "metadata": {},
   "outputs": [],
   "source": [
    "# Get your loader ready\n",
    "loader = DirectoryLoader('../data/', glob='**/*.txt')"
   ]
  },
  {
   "cell_type": "code",
   "execution_count": 3,
   "id": "6a9740d9",
   "metadata": {},
   "outputs": [],
   "source": [
    "# Load up your text into documents\n",
    "documents = loader.load()"
   ]
  },
  {
   "cell_type": "code",
   "execution_count": 4,
   "id": "3153f864",
   "metadata": {},
   "outputs": [],
   "source": [
    "# Get your text splitter ready\n",
    "text_splitter = RecursiveCharacterTextSplitter(chunk_size=1000, chunk_overlap=0)"
   ]
  },
  {
   "cell_type": "code",
   "execution_count": 5,
   "id": "a792c6fb",
   "metadata": {},
   "outputs": [],
   "source": [
    "# Split your documents into texts\n",
    "texts = text_splitter.split_documents(documents)"
   ]
  },
  {
   "cell_type": "code",
   "execution_count": 6,
   "id": "d2cad0de",
   "metadata": {},
   "outputs": [],
   "source": [
    "# Turn your texts into embeddings\n",
    "embeddings = OpenAIEmbeddings(openai_api_key=openai_api_key)"
   ]
  },
  {
   "cell_type": "code",
   "execution_count": 7,
   "id": "734ed265",
   "metadata": {},
   "outputs": [],
   "source": [
    "# Get your docsearch ready\n",
    "docsearch = FAISS.from_documents(texts, embeddings)"
   ]
  },
  {
   "cell_type": "code",
   "execution_count": 8,
   "id": "66826924",
   "metadata": {},
   "outputs": [],
   "source": [
    "# Load up your LLM\n",
    "llm = OpenAI(openai_api_key=openai_api_key)"
   ]
  },
  {
   "cell_type": "code",
   "execution_count": 9,
   "id": "817a0ece",
   "metadata": {},
   "outputs": [],
   "source": [
    "# Create your Retriever\n",
    "qa = RetrievalQA.from_chain_type(llm=llm, chain_type=\"stuff\", retriever=docsearch.as_retriever())"
   ]
  },
  {
   "cell_type": "code",
   "execution_count": null,
   "id": "20b81063",
   "metadata": {},
   "outputs": [],
   "source": [
    "# Run a query\n",
    "query = \"What is a transformer?\"\n",
    "qa.run(query)"
   ]
  },
  {
   "cell_type": "markdown",
   "id": "f22231c5",
   "metadata": {},
   "source": [
    "### Sources"
   ]
  },
  {
   "cell_type": "code",
   "execution_count": 11,
   "id": "694343cb",
   "metadata": {},
   "outputs": [],
   "source": [
    "qa = RetrievalQA.from_chain_type(llm=llm,\n",
    "                                chain_type=\"stuff\",\n",
    "                                retriever=docsearch.as_retriever(),\n",
    "                                return_source_documents=True)\n",
    "query = \"What is a transformer?\"\n",
    "result = qa({\"query\": query})"
   ]
  },
  {
   "cell_type": "code",
   "execution_count": null,
   "id": "bec53323",
   "metadata": {},
   "outputs": [],
   "source": [
    "result['result']"
   ]
  },
  {
   "cell_type": "code",
   "execution_count": null,
   "id": "32246ae3",
   "metadata": {},
   "outputs": [],
   "source": [
    "result['source_documents']"
   ]
  }
 ],
 "metadata": {
  "kernelspec": {
   "display_name": "Python 3 (ipykernel)",
   "language": "python",
   "name": "python3"
  },
  "language_info": {
   "codemirror_mode": {
    "name": "ipython",
    "version": 3
   },
   "file_extension": ".py",
   "mimetype": "text/x-python",
   "name": "python",
   "nbconvert_exporter": "python",
   "pygments_lexer": "ipython3",
   "version": "3.8.5"
  }
 },
 "nbformat": 4,
 "nbformat_minor": 5
}
